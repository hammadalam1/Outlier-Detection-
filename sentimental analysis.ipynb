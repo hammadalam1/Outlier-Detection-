{
 "cells": [
  {
   "cell_type": "code",
   "execution_count": 2,
   "id": "1200460e",
   "metadata": {},
   "outputs": [],
   "source": [
    "import nltk\n",
    "\n",
    "from nltk.sentiment import SentimentIntensityAnalyzer\n",
    "\n",
    "from nltk import word_tokenize\n",
    "\n",
    "from nltk.corpus import stopwords"
   ]
  },
  {
   "cell_type": "code",
   "execution_count": 5,
   "id": "3955888d",
   "metadata": {},
   "outputs": [
    {
     "name": "stderr",
     "output_type": "stream",
     "text": [
      "[nltk_data] Downloading package vader_lexicon to\n",
      "[nltk_data]     C:\\Users\\Administrator\\AppData\\Roaming\\nltk_data...\n",
      "[nltk_data] Downloading package punkt to\n",
      "[nltk_data]     C:\\Users\\Administrator\\AppData\\Roaming\\nltk_data...\n",
      "[nltk_data]   Unzipping tokenizers\\punkt.zip.\n",
      "[nltk_data] Downloading package stopwords to\n",
      "[nltk_data]     C:\\Users\\Administrator\\AppData\\Roaming\\nltk_data...\n",
      "[nltk_data]   Unzipping corpora\\stopwords.zip.\n"
     ]
    },
    {
     "data": {
      "text/plain": [
       "True"
      ]
     },
     "execution_count": 5,
     "metadata": {},
     "output_type": "execute_result"
    }
   ],
   "source": [
    "nltk.download('vader_lexicon')\n",
    "\n",
    "nltk.download('punkt')\n",
    "\n",
    "nltk.download('stopwords')"
   ]
  },
  {
   "cell_type": "code",
   "execution_count": null,
   "id": "2ab16136",
   "metadata": {},
   "outputs": [],
   "source": [
    "def perform_sentiment_analysis(text):\n",
    "    sid = SentimentIntensityAnalyzer()\n",
    "\n",
    "words = word_tokenize(text)\n",
    "\n",
    "stop_words = set(stopwords.words('english'))\n",
    "\n",
    "filtered_words = [word for word in words if word.lower() not in stop_words]\n",
    "\n",
    "sentiment_scores = sid.polarity_scores(text)"
   ]
  },
  {
   "cell_type": "code",
   "execution_count": null,
   "id": "1952619e",
   "metadata": {},
   "outputs": [],
   "source": [
    "def perform_sentiment_analysis(text):\n",
    "\n",
    "#Create a SentimentIntensityAnalyzer object\n",
    "\n",
    "sid = SentimentIntensityAnalyzer()\n",
    "\n",
    "#Tokenize the text into words\n",
    "\n",
    "words = word_tokenize(text)\n",
    "\n",
    "#Get English stopwords\n",
    "\n",
    "stop_words = set(stopwords.words('english'))\n",
    "\n",
    "#Remove stopwords\n",
    "\n",
    "filtered_words = [word for word in words if word.lower() not in stop_words]\n",
    "\n",
    "#Get sentiment scores\n",
    "\n",
    "sentiment_scores = sid.polarity_scores(text)"
   ]
  },
  {
   "cell_type": "code",
   "execution_count": null,
   "id": "e47c8040",
   "metadata": {},
   "outputs": [],
   "source": [
    "# Classify the sentiment based on the compound\n",
    "score\n",
    "\n",
    "if sentiment_scores['compound'] >= 0.05:\n",
    "    sentiment = \"Positive\"\n",
    "\n",
    "elif sentiment_scores['compound'] <= -0.05:\n",
    "    sentiment = \"Negative\"\n",
    "\n",
    "else:\n",
    "    sentiment = \"Neutral\""
   ]
  },
  {
   "cell_type": "code",
   "execution_count": null,
   "id": "ac0509ba",
   "metadata": {},
   "outputs": [],
   "source": [
    "sample_reviews = [\n",
    "\n",
    "\"I absolutely loved the new book! The plot was captivating.\",\n",
    "\n",
    "\"The weather ruined my outdoor plans. It's so frustrating.\",\n",
    "\n",
    "\"The concert was okay. Nothing special.\",\n",
    "\n",
    "\"The vacation was amazing. I enjoyed every moment.\",\n",
    "\n",
    "\"The traffic was terrible, and I got stuck for hours.\",\n",
    "\n",
    "]"
   ]
  },
  {
   "cell_type": "code",
   "execution_count": null,
   "id": "fab3e1ea",
   "metadata": {},
   "outputs": [],
   "source": [
    "for i, review in enumerate(sample_reviews, 1):\n",
    "\n",
    "sentiment, scores, filtered_words =perform_sentiment_analysis(review)\n",
    "\n",
    "print(f\"Review {i}:\")\n",
    "\n",
    "print(f\"Text: {review}\")\n",
    "\n",
    "print(f\"Sentiment: {sentiment}\")\n",
    "\n",
    "print(f\"Sentiment Scores: {scores}\")\n",
    "\n",
    "print(f\"Filtered Words: {filtered_words}\")\n",
    "\n",
    "print(\"\\n\")"
   ]
  },
  {
   "cell_type": "code",
   "execution_count": null,
   "id": "d4e316a9",
   "metadata": {},
   "outputs": [],
   "source": []
  }
 ],
 "metadata": {
  "kernelspec": {
   "display_name": "Python 3 (ipykernel)",
   "language": "python",
   "name": "python3"
  },
  "language_info": {
   "codemirror_mode": {
    "name": "ipython",
    "version": 3
   },
   "file_extension": ".py",
   "mimetype": "text/x-python",
   "name": "python",
   "nbconvert_exporter": "python",
   "pygments_lexer": "ipython3",
   "version": "3.11.3"
  }
 },
 "nbformat": 4,
 "nbformat_minor": 5
}
